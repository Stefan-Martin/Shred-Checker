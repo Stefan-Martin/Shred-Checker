{
 "cells": [
  {
   "cell_type": "code",
   "execution_count": 20,
   "id": "460ca075",
   "metadata": {},
   "outputs": [],
   "source": [
    "import numpy as np\n",
    "import pandas as pd\n",
    "import os\n",
    "import time\n",
    "import datetime\n",
    "import urllib.request\n",
    "from selenium import webdriver\n",
    "from selenium.webdriver.chrome.options import Options"
   ]
  },
  {
   "cell_type": "code",
   "execution_count": 47,
   "id": "bfe1bdd5",
   "metadata": {},
   "outputs": [
    {
     "data": {
      "text/plain": [
       "'sudo docker run  -p 9000:9000  -p 9009:9009  -p 8812:8812 -p 9003:9003  -v \"/questdb_data:/root/.questdb/\" questdb/questdb'"
      ]
     },
     "execution_count": 47,
     "metadata": {},
     "output_type": "execute_result"
    }
   ],
   "source": [
    "import requests\n",
    "import io\n",
    "import urllib.parse\n",
    "import json\n",
    "\n",
    "#Command to start the DB sever and restore from file\n",
    "\"\"\"sudo docker run \\\n",
    " -p 9000:9000  -p 9009:9009 \\\n",
    " -p 8812:8812 -p 9003:9003 \\\n",
    " -v \"/questdb_data:/root/.questdb/\" questdb/questdb\"\"\"\n",
    "#sudo docker logs --follow CONTAINER"
   ]
  },
  {
   "cell_type": "code",
   "execution_count": 100,
   "id": "5883bf42",
   "metadata": {},
   "outputs": [
    {
     "name": "stdout",
     "output_type": "stream",
     "text": [
      "200\n"
     ]
    }
   ],
   "source": [
    "#For creating the table initially\n",
    "q = 'create table forecasts'\\\n",
    "    '(location string,'\\\n",
    "    'Date string,'\\\n",
    "    'snowfall float,'\\\n",
    "    'maxTemp float,'\\\n",
    "    'maxWind float,'\\\n",
    "    'sun_percent float)'\n",
    "r = requests.get(\"http://localhost:9000/exec?query=\" + q)\n",
    "print(r.status_code)"
   ]
  },
  {
   "cell_type": "code",
   "execution_count": 5,
   "id": "f77a4c2b",
   "metadata": {},
   "outputs": [],
   "source": [
    "chrome_options = Options()\n",
    "chrome_options.add_argument(\"--headless\")\n",
    "chrome_options.add_argument(\"--no-sandbox\")\n",
    "chrome_options.add_argument(\"--disable-dev-shm-usage\")\n",
    "chrome_driver = os.path.join(os.getcwd(), \"chromedriver\")\n",
    "driver = webdriver.Chrome(options=chrome_options, executable_path=chrome_driver)"
   ]
  },
  {
   "cell_type": "code",
   "execution_count": 101,
   "id": "2f569eb6",
   "metadata": {},
   "outputs": [],
   "source": [
    "class location:\n",
    "    def __init__(self,name,lat,long):\n",
    "        self.name=name\n",
    "        self.lat=lat\n",
    "        self.long=long\n",
    "    \n",
    "    def get_forecast(self):\n",
    "        url=\"https://spotwx.com/products/grib_index.php?model=gem_lam_continental&lat=\"+str(self.lat)+\"&lon=\"+str(self.long)+\"&tz=America/Vancouver&display=table\"\n",
    "        driver.get(url)\n",
    "        driver.execute_script(\"$('.buttons-csv').click();\")\n",
    "        time.sleep(2)\n",
    "        df=pd.read_csv(\"SpotWx.csv\")\n",
    "        os.remove(\"SpotWx.csv\")\n",
    "        self.forecast=df\n",
    "        return df\n",
    "    \n",
    "    def weather_synopsis(self,df):\n",
    "        new_snow=df[\"SQP\"].iloc[-1] #get last accumulated snow\n",
    "        melting=df[\"TMP\"].max()>0\n",
    "        wind=df[\"WS\"].max()\n",
    "        #sun during the day hours only\n",
    "        cloud=df.CLOUD.mask((df.TIME.str.slice(stop=2).astype(int)<8) | (df.TIME.str.slice(stop=2).astype(int)>20))\n",
    "        sun=100-cloud.mean()\n",
    "        data = {'New Snow':  [new_snow],\n",
    "                'Melting': [melting],\n",
    "                'Max Winds': [wind],\n",
    "                'Weighted Sun':[sun]\n",
    "               }\n",
    "        result = pd.DataFrame(data, index=[self.name])\n",
    "        return result\n",
    "    \n",
    "    def store_today(self,df):\n",
    "        #Check to see if we already have the data\n",
    "        today=df.iloc[0:df[df.TIME == '00:00'].index[0]]\n",
    "        q = \"select count\"\\\n",
    "        \" from forecasts\"\\\n",
    "        \" where date ='\"+today.DATE + \"' and location ='\"+self.name+\"'\"\n",
    "        query = urllib.parse.quote(q[0])\n",
    "        r = requests.get(\"http://localhost:9000/exec?query=\"+query)\n",
    "        if (json.loads(r.text)['dataset'][0][0]==0):\n",
    "            cloud=today.CLOUD.mask((today.TIME.str.slice(stop=2).astype(int)<8) | (today.TIME.str.slice(stop=2).astype(int)>20))\n",
    "            sun=100-cloud.mean()\n",
    "            date=today.DATE[0]\n",
    "            query = \"insert into forecasts values('\"\\\n",
    "            + self.name + \"','\"\\\n",
    "            + date + \"',\"\\\n",
    "            + str(today[\"SQP\"].iloc[-1]) + \",\"\\\n",
    "            + str(today.TMP.max()) + \",\"\\\n",
    "            + str(today.WS.max()) + \",\"\\\n",
    "            + str(sun) + \")\"\n",
    "            r = requests.get(\"http://localhost:9000/exec?query=\" + query)\n",
    "\n",
    "            if (r.status_code==200):\n",
    "                return True\n",
    "            else:\n",
    "                return False"
   ]
  },
  {
   "cell_type": "code",
   "execution_count": 102,
   "id": "2782a485",
   "metadata": {},
   "outputs": [],
   "source": [
    "blackcomb=location(\"black\",50.09970, -122.86943)\n",
    "\n",
    "garibaldi=location(\"gar\",49.93299, -123.03600)\n",
    "\n",
    "joffre_lake=location(\"jof\",50.34143, -122.47768)\n",
    "\n",
    "s2s=location(\"s2s\",9.65218, -123.09211)\n",
    "\n",
    "cloudburst=location(\"cloud\",49.93298, -123.23602)\n",
    "\n",
    "manning=location(\"man\",49.06805, -120.91646)\n",
    "\n",
    "coq=location(\"coq\",49.61094, -121.05758)\n",
    "\n",
    "rogers=location(\"rog\",51.30123, -117.52014)\n",
    "\n",
    "sites=[blackcomb,garibaldi,joffre_lake,cloudburst,manning,coq,rogers]"
   ]
  },
  {
   "cell_type": "code",
   "execution_count": 103,
   "id": "21f62ad8",
   "metadata": {},
   "outputs": [],
   "source": [
    "view=pd.DataFrame(columns = ['New Snow', 'Melting','Max Winds','Weighted Sun'])"
   ]
  },
  {
   "cell_type": "code",
   "execution_count": 104,
   "id": "5d76dae3",
   "metadata": {},
   "outputs": [
    {
     "name": "stdout",
     "output_type": "stream",
     "text": [
      "Grabbing site data...\n",
      "{'query': \"select count from forecasts where date ='2022/02/22' and location ='black'\", 'columns': [{'name': 'count', 'type': 'LONG'}], 'dataset': [[0]], 'count': 1}\n",
      "black\n",
      "{'query': \"select count from forecasts where date ='2022/02/22' and location ='gar'\", 'columns': [{'name': 'count', 'type': 'LONG'}], 'dataset': [[0]], 'count': 1}\n",
      "gar\n",
      "{'query': \"select count from forecasts where date ='2022/02/22' and location ='jof'\", 'columns': [{'name': 'count', 'type': 'LONG'}], 'dataset': [[0]], 'count': 1}\n",
      "jof\n",
      "{'query': \"select count from forecasts where date ='2022/02/22' and location ='cloud'\", 'columns': [{'name': 'count', 'type': 'LONG'}], 'dataset': [[0]], 'count': 1}\n",
      "cloud\n",
      "{'query': \"select count from forecasts where date ='2022/02/22' and location ='man'\", 'columns': [{'name': 'count', 'type': 'LONG'}], 'dataset': [[0]], 'count': 1}\n",
      "man\n",
      "{'query': \"select count from forecasts where date ='2022/02/22' and location ='coq'\", 'columns': [{'name': 'count', 'type': 'LONG'}], 'dataset': [[0]], 'count': 1}\n",
      "coq\n",
      "{'query': \"select count from forecasts where date ='2022/02/22' and location ='rog'\", 'columns': [{'name': 'count', 'type': 'LONG'}], 'dataset': [[0]], 'count': 1}\n",
      "rog\n"
     ]
    }
   ],
   "source": [
    "print(\"Grabbing site data...\")\n",
    "for site in sites:\n",
    "    forecast=site.get_forecast()\n",
    "    if(site.store_today(forecast)):\n",
    "        print(site.name)\n",
    "    result=site.weather_synopsis(forecast)\n",
    "    view=view.append(result)"
   ]
  },
  {
   "cell_type": "code",
   "execution_count": 20,
   "id": "638bde21",
   "metadata": {},
   "outputs": [
    {
     "data": {
      "text/html": [
       "<style type=\"text/css\">\n",
       "#T_97647_row0_col0, #T_97647_row1_col0 {\n",
       "  background-color: #e9f6a1;\n",
       "  color: #000000;\n",
       "}\n",
       "#T_97647_row2_col0 {\n",
       "  background-color: #feeda1;\n",
       "  color: #000000;\n",
       "}\n",
       "#T_97647_row3_col0 {\n",
       "  background-color: #a50026;\n",
       "  color: #f1f1f1;\n",
       "}\n",
       "#T_97647_row4_col0 {\n",
       "  background-color: #98d368;\n",
       "  color: #000000;\n",
       "}\n",
       "#T_97647_row5_col0 {\n",
       "  background-color: #c01a27;\n",
       "  color: #f1f1f1;\n",
       "}\n",
       "#T_97647_row6_col0 {\n",
       "  background-color: #006837;\n",
       "  color: #f1f1f1;\n",
       "}\n",
       "</style>\n",
       "<table id=\"T_97647_\">\n",
       "  <thead>\n",
       "    <tr>\n",
       "      <th class=\"blank level0\" >&nbsp;</th>\n",
       "      <th class=\"col_heading level0 col0\" >New Snow</th>\n",
       "      <th class=\"col_heading level0 col1\" >Melting</th>\n",
       "      <th class=\"col_heading level0 col2\" >Max Winds</th>\n",
       "      <th class=\"col_heading level0 col3\" >Weighted Sun</th>\n",
       "    </tr>\n",
       "  </thead>\n",
       "  <tbody>\n",
       "    <tr>\n",
       "      <th id=\"T_97647_level0_row0\" class=\"row_heading level0 row0\" >black</th>\n",
       "      <td id=\"T_97647_row0_col0\" class=\"data row0 col0\" >1.100000</td>\n",
       "      <td id=\"T_97647_row0_col1\" class=\"data row0 col1\" >False</td>\n",
       "      <td id=\"T_97647_row0_col2\" class=\"data row0 col2\" >9</td>\n",
       "      <td id=\"T_97647_row0_col3\" class=\"data row0 col3\" >73.814815</td>\n",
       "    </tr>\n",
       "    <tr>\n",
       "      <th id=\"T_97647_level0_row1\" class=\"row_heading level0 row1\" >gar</th>\n",
       "      <td id=\"T_97647_row1_col0\" class=\"data row1 col0\" >1.100000</td>\n",
       "      <td id=\"T_97647_row1_col1\" class=\"data row1 col1\" >False</td>\n",
       "      <td id=\"T_97647_row1_col2\" class=\"data row1 col2\" >21</td>\n",
       "      <td id=\"T_97647_row1_col3\" class=\"data row1 col3\" >79.000000</td>\n",
       "    </tr>\n",
       "    <tr>\n",
       "      <th id=\"T_97647_level0_row2\" class=\"row_heading level0 row2\" >jof</th>\n",
       "      <td id=\"T_97647_row2_col0\" class=\"data row2 col0\" >0.900000</td>\n",
       "      <td id=\"T_97647_row2_col1\" class=\"data row2 col1\" >False</td>\n",
       "      <td id=\"T_97647_row2_col2\" class=\"data row2 col2\" >12</td>\n",
       "      <td id=\"T_97647_row2_col3\" class=\"data row2 col3\" >75.777778</td>\n",
       "    </tr>\n",
       "    <tr>\n",
       "      <th id=\"T_97647_level0_row3\" class=\"row_heading level0 row3\" >cloud</th>\n",
       "      <td id=\"T_97647_row3_col0\" class=\"data row3 col0\" >0.100000</td>\n",
       "      <td id=\"T_97647_row3_col1\" class=\"data row3 col1\" >False</td>\n",
       "      <td id=\"T_97647_row3_col2\" class=\"data row3 col2\" >8</td>\n",
       "      <td id=\"T_97647_row3_col3\" class=\"data row3 col3\" >86.703704</td>\n",
       "    </tr>\n",
       "    <tr>\n",
       "      <th id=\"T_97647_level0_row4\" class=\"row_heading level0 row4\" >man</th>\n",
       "      <td id=\"T_97647_row4_col0\" class=\"data row4 col0\" >1.400000</td>\n",
       "      <td id=\"T_97647_row4_col1\" class=\"data row4 col1\" >False</td>\n",
       "      <td id=\"T_97647_row4_col2\" class=\"data row4 col2\" >13</td>\n",
       "      <td id=\"T_97647_row4_col3\" class=\"data row4 col3\" >78.703704</td>\n",
       "    </tr>\n",
       "    <tr>\n",
       "      <th id=\"T_97647_level0_row5\" class=\"row_heading level0 row5\" >coq</th>\n",
       "      <td id=\"T_97647_row5_col0\" class=\"data row5 col0\" >0.200000</td>\n",
       "      <td id=\"T_97647_row5_col1\" class=\"data row5 col1\" >False</td>\n",
       "      <td id=\"T_97647_row5_col2\" class=\"data row5 col2\" >13</td>\n",
       "      <td id=\"T_97647_row5_col3\" class=\"data row5 col3\" >73.333333</td>\n",
       "    </tr>\n",
       "    <tr>\n",
       "      <th id=\"T_97647_level0_row6\" class=\"row_heading level0 row6\" >rog</th>\n",
       "      <td id=\"T_97647_row6_col0\" class=\"data row6 col0\" >1.900000</td>\n",
       "      <td id=\"T_97647_row6_col1\" class=\"data row6 col1\" >False</td>\n",
       "      <td id=\"T_97647_row6_col2\" class=\"data row6 col2\" >11</td>\n",
       "      <td id=\"T_97647_row6_col3\" class=\"data row6 col3\" >76.962963</td>\n",
       "    </tr>\n",
       "  </tbody>\n",
       "</table>\n"
      ],
      "text/plain": [
       "<pandas.io.formats.style.Styler at 0x7ff22d88f370>"
      ]
     },
     "execution_count": 20,
     "metadata": {},
     "output_type": "execute_result"
    }
   ],
   "source": [
    "view\n",
    "view.style.background_gradient(cmap=\"RdYlGn\",subset=[\"New Snow\"]) #style snow column"
   ]
  },
  {
   "cell_type": "code",
   "execution_count": 21,
   "id": "54afc545",
   "metadata": {},
   "outputs": [
    {
     "data": {
      "text/html": [
       "<style type=\"text/css\">\n",
       "#T_83aae_row0_col3 {\n",
       "  background-color: #a19975;\n",
       "  color: #f1f1f1;\n",
       "}\n",
       "#T_83aae_row1_col3 {\n",
       "  background-color: #c6b667;\n",
       "  color: #000000;\n",
       "}\n",
       "#T_83aae_row2_col3 {\n",
       "  background-color: #aea371;\n",
       "  color: #f1f1f1;\n",
       "}\n",
       "#T_83aae_row3_col3 {\n",
       "  background-color: #fee838;\n",
       "  color: #000000;\n",
       "}\n",
       "#T_83aae_row4_col3 {\n",
       "  background-color: #c4b468;\n",
       "  color: #000000;\n",
       "}\n",
       "#T_83aae_row5_col3 {\n",
       "  background-color: #9d9576;\n",
       "  color: #f1f1f1;\n",
       "}\n",
       "#T_83aae_row6_col3 {\n",
       "  background-color: #b8aa6e;\n",
       "  color: #f1f1f1;\n",
       "}\n",
       "</style>\n",
       "<table id=\"T_83aae_\">\n",
       "  <thead>\n",
       "    <tr>\n",
       "      <th class=\"blank level0\" >&nbsp;</th>\n",
       "      <th class=\"col_heading level0 col0\" >New Snow</th>\n",
       "      <th class=\"col_heading level0 col1\" >Melting</th>\n",
       "      <th class=\"col_heading level0 col2\" >Max Winds</th>\n",
       "      <th class=\"col_heading level0 col3\" >Weighted Sun</th>\n",
       "    </tr>\n",
       "  </thead>\n",
       "  <tbody>\n",
       "    <tr>\n",
       "      <th id=\"T_83aae_level0_row0\" class=\"row_heading level0 row0\" >black</th>\n",
       "      <td id=\"T_83aae_row0_col0\" class=\"data row0 col0\" >1.100000</td>\n",
       "      <td id=\"T_83aae_row0_col1\" class=\"data row0 col1\" >False</td>\n",
       "      <td id=\"T_83aae_row0_col2\" class=\"data row0 col2\" >9</td>\n",
       "      <td id=\"T_83aae_row0_col3\" class=\"data row0 col3\" >73.814815</td>\n",
       "    </tr>\n",
       "    <tr>\n",
       "      <th id=\"T_83aae_level0_row1\" class=\"row_heading level0 row1\" >gar</th>\n",
       "      <td id=\"T_83aae_row1_col0\" class=\"data row1 col0\" >1.100000</td>\n",
       "      <td id=\"T_83aae_row1_col1\" class=\"data row1 col1\" >False</td>\n",
       "      <td id=\"T_83aae_row1_col2\" class=\"data row1 col2\" >21</td>\n",
       "      <td id=\"T_83aae_row1_col3\" class=\"data row1 col3\" >79.000000</td>\n",
       "    </tr>\n",
       "    <tr>\n",
       "      <th id=\"T_83aae_level0_row2\" class=\"row_heading level0 row2\" >jof</th>\n",
       "      <td id=\"T_83aae_row2_col0\" class=\"data row2 col0\" >0.900000</td>\n",
       "      <td id=\"T_83aae_row2_col1\" class=\"data row2 col1\" >False</td>\n",
       "      <td id=\"T_83aae_row2_col2\" class=\"data row2 col2\" >12</td>\n",
       "      <td id=\"T_83aae_row2_col3\" class=\"data row2 col3\" >75.777778</td>\n",
       "    </tr>\n",
       "    <tr>\n",
       "      <th id=\"T_83aae_level0_row3\" class=\"row_heading level0 row3\" >cloud</th>\n",
       "      <td id=\"T_83aae_row3_col0\" class=\"data row3 col0\" >0.100000</td>\n",
       "      <td id=\"T_83aae_row3_col1\" class=\"data row3 col1\" >False</td>\n",
       "      <td id=\"T_83aae_row3_col2\" class=\"data row3 col2\" >8</td>\n",
       "      <td id=\"T_83aae_row3_col3\" class=\"data row3 col3\" >86.703704</td>\n",
       "    </tr>\n",
       "    <tr>\n",
       "      <th id=\"T_83aae_level0_row4\" class=\"row_heading level0 row4\" >man</th>\n",
       "      <td id=\"T_83aae_row4_col0\" class=\"data row4 col0\" >1.400000</td>\n",
       "      <td id=\"T_83aae_row4_col1\" class=\"data row4 col1\" >False</td>\n",
       "      <td id=\"T_83aae_row4_col2\" class=\"data row4 col2\" >13</td>\n",
       "      <td id=\"T_83aae_row4_col3\" class=\"data row4 col3\" >78.703704</td>\n",
       "    </tr>\n",
       "    <tr>\n",
       "      <th id=\"T_83aae_level0_row5\" class=\"row_heading level0 row5\" >coq</th>\n",
       "      <td id=\"T_83aae_row5_col0\" class=\"data row5 col0\" >0.200000</td>\n",
       "      <td id=\"T_83aae_row5_col1\" class=\"data row5 col1\" >False</td>\n",
       "      <td id=\"T_83aae_row5_col2\" class=\"data row5 col2\" >13</td>\n",
       "      <td id=\"T_83aae_row5_col3\" class=\"data row5 col3\" >73.333333</td>\n",
       "    </tr>\n",
       "    <tr>\n",
       "      <th id=\"T_83aae_level0_row6\" class=\"row_heading level0 row6\" >rog</th>\n",
       "      <td id=\"T_83aae_row6_col0\" class=\"data row6 col0\" >1.900000</td>\n",
       "      <td id=\"T_83aae_row6_col1\" class=\"data row6 col1\" >False</td>\n",
       "      <td id=\"T_83aae_row6_col2\" class=\"data row6 col2\" >11</td>\n",
       "      <td id=\"T_83aae_row6_col3\" class=\"data row6 col3\" >76.962963</td>\n",
       "    </tr>\n",
       "  </tbody>\n",
       "</table>\n"
      ],
      "text/plain": [
       "<pandas.io.formats.style.Styler at 0x7ff22c57ff40>"
      ]
     },
     "execution_count": 21,
     "metadata": {},
     "output_type": "execute_result"
    }
   ],
   "source": [
    "view.style.background_gradient(cmap=\"cividis\",subset=[\"Weighted Sun\"],vmin=50) #style sun column"
   ]
  },
  {
   "cell_type": "code",
   "execution_count": 19,
   "id": "7f6ac6e1",
   "metadata": {},
   "outputs": [
    {
     "data": {
      "text/plain": [
       "'{\"query\":\"\",\"error\":\"No query text\",\"position\":0}'"
      ]
     },
     "execution_count": 19,
     "metadata": {},
     "output_type": "execute_result"
    }
   ],
   "source": [
    "requests.get(\"http://localhost:9000/exec?query= BACKUP table forecasts;\")"
   ]
  },
  {
   "cell_type": "code",
   "execution_count": 65,
   "id": "505ec06d",
   "metadata": {},
   "outputs": [
    {
     "data": {
      "text/plain": [
       "{'query': \"select CASE WHEN EXISTS(select 1 from forecasts where date ='2022-02-05' and location ='rog')THEN (1)ELSE (0) END\",\n",
       " 'error': 'unknown function name: EXISTS(CURSOR)',\n",
       " 'position': 17}"
      ]
     },
     "execution_count": 65,
     "metadata": {},
     "output_type": "execute_result"
    }
   ],
   "source": []
  },
  {
   "cell_type": "code",
   "execution_count": 190,
   "id": "9fd917fc",
   "metadata": {},
   "outputs": [],
   "source": [
    "driver.quit()"
   ]
  }
 ],
 "metadata": {
  "kernelspec": {
   "display_name": "Python 3 (ipykernel)",
   "language": "python",
   "name": "python3"
  },
  "language_info": {
   "codemirror_mode": {
    "name": "ipython",
    "version": 3
   },
   "file_extension": ".py",
   "mimetype": "text/x-python",
   "name": "python",
   "nbconvert_exporter": "python",
   "pygments_lexer": "ipython3",
   "version": "3.9.7"
  }
 },
 "nbformat": 4,
 "nbformat_minor": 5
}
