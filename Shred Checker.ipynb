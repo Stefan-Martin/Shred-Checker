{
 "cells": [
  {
   "cell_type": "code",
   "execution_count": 8,
   "id": "b21baaca",
   "metadata": {},
   "outputs": [],
   "source": [
    "import numpy as np\n",
    "import pandas as pd\n",
    "import urllib.request\n",
    "import grippy as gp\n",
    "filename = 'myfile.txt'\n",
    "\n",
    "model_start=\"00\"\n",
    "forecast_hour=\"000\"\n",
    "\n",
    "surface_winds\n",
    "temp\n",
    "\n",
    "HRDPS=\"http://dd.weather.gc.ca/model_hrdps/west/grib2/\"+model_start+\"/\"+forecast_hour"
   ]
  },
  {
   "cell_type": "code",
   "execution_count": 9,
   "id": "42865d70",
   "metadata": {},
   "outputs": [
    {
     "data": {
      "text/plain": [
       "'http://dd.weather.gc.ca/model_hrdps/west/grib2/00/000'"
      ]
     },
     "execution_count": 9,
     "metadata": {},
     "output_type": "execute_result"
    }
   ],
   "source": [
    "HRDPS"
   ]
  },
  {
   "cell_type": "code",
   "execution_count": 10,
   "id": "786ad370",
   "metadata": {},
   "outputs": [
    {
     "data": {
      "text/plain": [
       "('test.grib2', <http.client.HTTPMessage at 0x7f9681d83190>)"
      ]
     },
     "execution_count": 10,
     "metadata": {},
     "output_type": "execute_result"
    }
   ],
   "source": [
    "urllib.request.urlretrieve(HRDPS, \"test.grib2\")"
   ]
  },
  {
   "cell_type": "code",
   "execution_count": null,
   "id": "d1f92e44",
   "metadata": {},
   "outputs": [],
   "source": []
  }
 ],
 "metadata": {
  "kernelspec": {
   "display_name": "Python 3 (ipykernel)",
   "language": "python",
   "name": "python3"
  },
  "language_info": {
   "codemirror_mode": {
    "name": "ipython",
    "version": 3
   },
   "file_extension": ".py",
   "mimetype": "text/x-python",
   "name": "python",
   "nbconvert_exporter": "python",
   "pygments_lexer": "ipython3",
   "version": "3.8.10"
  }
 },
 "nbformat": 4,
 "nbformat_minor": 5
}
