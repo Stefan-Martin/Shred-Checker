{
 "cells": [
  {
   "cell_type": "code",
   "execution_count": 133,
   "id": "460ca075",
   "metadata": {},
   "outputs": [],
   "source": [
    "import numpy as np\n",
    "import pandas as pd\n",
    "import os\n",
    "import time\n",
    "import datetime\n",
    "import urllib.request\n",
    "from selenium import webdriver\n",
    "from selenium.webdriver.chrome.options import Options"
   ]
  },
  {
   "cell_type": "code",
   "execution_count": 214,
   "id": "f77a4c2b",
   "metadata": {},
   "outputs": [],
   "source": [
    "chrome_options = Options()\n",
    "chrome_options.add_argument(\"--headless\")\n",
    "chrome_options.add_argument(\"--no-sandbox\")\n",
    "chrome_options.add_argument(\"--disable-dev-shm-usage\")\n",
    "chrome_driver = os.path.join(os.getcwd(), \"chromedriver\")\n",
    "driver = webdriver.Chrome(options=chrome_options, executable_path=chrome_driver)"
   ]
  },
  {
   "cell_type": "code",
   "execution_count": 215,
   "id": "2f569eb6",
   "metadata": {},
   "outputs": [],
   "source": [
    "class location:\n",
    "    def __init__(self,name,lat,long):\n",
    "        self.name=name\n",
    "        self.lat=lat\n",
    "        self.long=long\n",
    "    \n",
    "    def get_forecast(self):\n",
    "        url=\"https://spotwx.com/products/grib_index.php?model=gem_lam_continental&lat=\"+str(self.lat)+\"&lon=\"+str(self.long)+\"&tz=America/Vancouver&display=table\"\n",
    "        driver.get(url)\n",
    "        driver.execute_script(\"$('.buttons-csv').click();\")\n",
    "        time.sleep(2)\n",
    "        df=pd.read_csv(\"SpotWx.csv\")\n",
    "        os.remove(\"SpotWx.csv\")\n",
    "        self.forecast=df\n",
    "        return df\n",
    "    \n",
    "    def weather_synopsis(self,df):\n",
    "        new_snow=df[\"SQP\"].iloc[-1] #get last accumulated snow\n",
    "        melting=df[\"TMP\"].max()>0\n",
    "        wind=df[\"WS\"].max()\n",
    "        #sun during the day hours only\n",
    "        cloud=df[\"CLOUD\"].mask((df[\"TIME\"].str.slice(stop=2).astype(int)<8) | (df[\"TIME\"].str.slice(stop=2).astype(int)>20))\n",
    "        sun=100-cloud.mean()\n",
    "        data = {'New Snow':  [new_snow],\n",
    "                'Melting': [melting],\n",
    "                'Max Winds': [wind],\n",
    "                'Weighted Sun':[sun]\n",
    "               }\n",
    "\n",
    "        result = pd.DataFrame(data, index=[self.name])\n",
    "        return result"
   ]
  },
  {
   "cell_type": "code",
   "execution_count": 216,
   "id": "2782a485",
   "metadata": {},
   "outputs": [],
   "source": [
    "blackcomb=location(\"black\",50.09970, -122.86943)\n",
    "\n",
    "garibaldi=location(\"gar\",49.93299, -123.03600)\n",
    "\n",
    "joffre_lake=location(\"jof\",50.34143, -122.47768)\n",
    "\n",
    "s2s=location(\"s2s\",9.65218, -123.09211)\n",
    "\n",
    "cloudburst=location(\"cloud\",49.93298, -123.23602)\n",
    "\n",
    "manning=location(\"man\",49.06805, -120.91646)\n",
    "\n",
    "coq=location(\"coq\",49.61094, -121.05758)\n",
    "\n",
    "rogers=location(\"rog\",51.30123, -117.52014)\n",
    "\n",
    "sites=[blackcomb,garibaldi,joffre_lake,cloudburst,manning,coq,rogers]"
   ]
  },
  {
   "cell_type": "code",
   "execution_count": 220,
   "id": "21f62ad8",
   "metadata": {},
   "outputs": [],
   "source": [
    "view=pd.DataFrame(columns = ['New Snow', 'Melting','Max Winds','Weighted Sun'])"
   ]
  },
  {
   "cell_type": "code",
   "execution_count": 221,
   "id": "5d76dae3",
   "metadata": {},
   "outputs": [
    {
     "name": "stdout",
     "output_type": "stream",
     "text": [
      "Grabbing site data...\n",
      "black\n",
      "gar\n",
      "jof\n",
      "cloud\n",
      "man\n",
      "coq\n",
      "rog\n"
     ]
    }
   ],
   "source": [
    "print(\"Grabbing site data...\")\n",
    "for site in sites:\n",
    "    print(site.name)\n",
    "    forecast=site.get_forecast()\n",
    "    result=site.weather_synopsis(forecast)\n",
    "    view=view.append(result)"
   ]
  },
  {
   "cell_type": "code",
   "execution_count": 226,
   "id": "638bde21",
   "metadata": {},
   "outputs": [
    {
     "data": {
      "text/html": [
       "<style type=\"text/css\">\n",
       "#T_bbfc7_row0_col0, #T_bbfc7_row1_col0, #T_bbfc7_row2_col0, #T_bbfc7_row3_col0, #T_bbfc7_row4_col0, #T_bbfc7_row5_col0, #T_bbfc7_row6_col0 {\n",
       "  background-color: #a50026;\n",
       "  color: #f1f1f1;\n",
       "}\n",
       "</style>\n",
       "<table id=\"T_bbfc7_\">\n",
       "  <thead>\n",
       "    <tr>\n",
       "      <th class=\"blank level0\" >&nbsp;</th>\n",
       "      <th class=\"col_heading level0 col0\" >New Snow</th>\n",
       "      <th class=\"col_heading level0 col1\" >Melting</th>\n",
       "      <th class=\"col_heading level0 col2\" >Max Winds</th>\n",
       "      <th class=\"col_heading level0 col3\" >Weighted Sun</th>\n",
       "    </tr>\n",
       "  </thead>\n",
       "  <tbody>\n",
       "    <tr>\n",
       "      <th id=\"T_bbfc7_level0_row0\" class=\"row_heading level0 row0\" >black</th>\n",
       "      <td id=\"T_bbfc7_row0_col0\" class=\"data row0 col0\" >0.000000</td>\n",
       "      <td id=\"T_bbfc7_row0_col1\" class=\"data row0 col1\" >True</td>\n",
       "      <td id=\"T_bbfc7_row0_col2\" class=\"data row0 col2\" >4</td>\n",
       "      <td id=\"T_bbfc7_row0_col3\" class=\"data row0 col3\" >100.000000</td>\n",
       "    </tr>\n",
       "    <tr>\n",
       "      <th id=\"T_bbfc7_level0_row1\" class=\"row_heading level0 row1\" >gar</th>\n",
       "      <td id=\"T_bbfc7_row1_col0\" class=\"data row1 col0\" >0.000000</td>\n",
       "      <td id=\"T_bbfc7_row1_col1\" class=\"data row1 col1\" >True</td>\n",
       "      <td id=\"T_bbfc7_row1_col2\" class=\"data row1 col2\" >12</td>\n",
       "      <td id=\"T_bbfc7_row1_col3\" class=\"data row1 col3\" >100.000000</td>\n",
       "    </tr>\n",
       "    <tr>\n",
       "      <th id=\"T_bbfc7_level0_row2\" class=\"row_heading level0 row2\" >jof</th>\n",
       "      <td id=\"T_bbfc7_row2_col0\" class=\"data row2 col0\" >0.000000</td>\n",
       "      <td id=\"T_bbfc7_row2_col1\" class=\"data row2 col1\" >True</td>\n",
       "      <td id=\"T_bbfc7_row2_col2\" class=\"data row2 col2\" >8</td>\n",
       "      <td id=\"T_bbfc7_row2_col3\" class=\"data row2 col3\" >100.000000</td>\n",
       "    </tr>\n",
       "    <tr>\n",
       "      <th id=\"T_bbfc7_level0_row3\" class=\"row_heading level0 row3\" >cloud</th>\n",
       "      <td id=\"T_bbfc7_row3_col0\" class=\"data row3 col0\" >0.000000</td>\n",
       "      <td id=\"T_bbfc7_row3_col1\" class=\"data row3 col1\" >True</td>\n",
       "      <td id=\"T_bbfc7_row3_col2\" class=\"data row3 col2\" >4</td>\n",
       "      <td id=\"T_bbfc7_row3_col3\" class=\"data row3 col3\" >98.703704</td>\n",
       "    </tr>\n",
       "    <tr>\n",
       "      <th id=\"T_bbfc7_level0_row4\" class=\"row_heading level0 row4\" >man</th>\n",
       "      <td id=\"T_bbfc7_row4_col0\" class=\"data row4 col0\" >0.000000</td>\n",
       "      <td id=\"T_bbfc7_row4_col1\" class=\"data row4 col1\" >True</td>\n",
       "      <td id=\"T_bbfc7_row4_col2\" class=\"data row4 col2\" >9</td>\n",
       "      <td id=\"T_bbfc7_row4_col3\" class=\"data row4 col3\" >97.333333</td>\n",
       "    </tr>\n",
       "    <tr>\n",
       "      <th id=\"T_bbfc7_level0_row5\" class=\"row_heading level0 row5\" >coq</th>\n",
       "      <td id=\"T_bbfc7_row5_col0\" class=\"data row5 col0\" >0.000000</td>\n",
       "      <td id=\"T_bbfc7_row5_col1\" class=\"data row5 col1\" >True</td>\n",
       "      <td id=\"T_bbfc7_row5_col2\" class=\"data row5 col2\" >10</td>\n",
       "      <td id=\"T_bbfc7_row5_col3\" class=\"data row5 col3\" >94.296296</td>\n",
       "    </tr>\n",
       "    <tr>\n",
       "      <th id=\"T_bbfc7_level0_row6\" class=\"row_heading level0 row6\" >rog</th>\n",
       "      <td id=\"T_bbfc7_row6_col0\" class=\"data row6 col0\" >0.000000</td>\n",
       "      <td id=\"T_bbfc7_row6_col1\" class=\"data row6 col1\" >False</td>\n",
       "      <td id=\"T_bbfc7_row6_col2\" class=\"data row6 col2\" >11</td>\n",
       "      <td id=\"T_bbfc7_row6_col3\" class=\"data row6 col3\" >98.888889</td>\n",
       "    </tr>\n",
       "  </tbody>\n",
       "</table>\n"
      ],
      "text/plain": [
       "<pandas.io.formats.style.Styler at 0x7f52526d0ac0>"
      ]
     },
     "execution_count": 226,
     "metadata": {},
     "output_type": "execute_result"
    }
   ],
   "source": [
    "view\n",
    "view.style.background_gradient(cmap=\"RdYlGn\",subset=[\"New Snow\"]) #style snow column"
   ]
  },
  {
   "cell_type": "code",
   "execution_count": 228,
   "id": "54afc545",
   "metadata": {},
   "outputs": [
    {
     "data": {
      "text/html": [
       "<style type=\"text/css\">\n",
       "#T_77798_row0_col3, #T_77798_row1_col3, #T_77798_row2_col3 {\n",
       "  background-color: #fee838;\n",
       "  color: #000000;\n",
       "}\n",
       "#T_77798_row3_col3 {\n",
       "  background-color: #fbe138;\n",
       "  color: #000000;\n",
       "}\n",
       "#T_77798_row4_col3 {\n",
       "  background-color: #f2da44;\n",
       "  color: #000000;\n",
       "}\n",
       "#T_77798_row5_col3 {\n",
       "  background-color: #e0cb56;\n",
       "  color: #000000;\n",
       "}\n",
       "#T_77798_row6_col3 {\n",
       "  background-color: #fce236;\n",
       "  color: #000000;\n",
       "}\n",
       "</style>\n",
       "<table id=\"T_77798_\">\n",
       "  <thead>\n",
       "    <tr>\n",
       "      <th class=\"blank level0\" >&nbsp;</th>\n",
       "      <th class=\"col_heading level0 col0\" >New Snow</th>\n",
       "      <th class=\"col_heading level0 col1\" >Melting</th>\n",
       "      <th class=\"col_heading level0 col2\" >Max Winds</th>\n",
       "      <th class=\"col_heading level0 col3\" >Weighted Sun</th>\n",
       "    </tr>\n",
       "  </thead>\n",
       "  <tbody>\n",
       "    <tr>\n",
       "      <th id=\"T_77798_level0_row0\" class=\"row_heading level0 row0\" >black</th>\n",
       "      <td id=\"T_77798_row0_col0\" class=\"data row0 col0\" >0.000000</td>\n",
       "      <td id=\"T_77798_row0_col1\" class=\"data row0 col1\" >True</td>\n",
       "      <td id=\"T_77798_row0_col2\" class=\"data row0 col2\" >4</td>\n",
       "      <td id=\"T_77798_row0_col3\" class=\"data row0 col3\" >100.000000</td>\n",
       "    </tr>\n",
       "    <tr>\n",
       "      <th id=\"T_77798_level0_row1\" class=\"row_heading level0 row1\" >gar</th>\n",
       "      <td id=\"T_77798_row1_col0\" class=\"data row1 col0\" >0.000000</td>\n",
       "      <td id=\"T_77798_row1_col1\" class=\"data row1 col1\" >True</td>\n",
       "      <td id=\"T_77798_row1_col2\" class=\"data row1 col2\" >12</td>\n",
       "      <td id=\"T_77798_row1_col3\" class=\"data row1 col3\" >100.000000</td>\n",
       "    </tr>\n",
       "    <tr>\n",
       "      <th id=\"T_77798_level0_row2\" class=\"row_heading level0 row2\" >jof</th>\n",
       "      <td id=\"T_77798_row2_col0\" class=\"data row2 col0\" >0.000000</td>\n",
       "      <td id=\"T_77798_row2_col1\" class=\"data row2 col1\" >True</td>\n",
       "      <td id=\"T_77798_row2_col2\" class=\"data row2 col2\" >8</td>\n",
       "      <td id=\"T_77798_row2_col3\" class=\"data row2 col3\" >100.000000</td>\n",
       "    </tr>\n",
       "    <tr>\n",
       "      <th id=\"T_77798_level0_row3\" class=\"row_heading level0 row3\" >cloud</th>\n",
       "      <td id=\"T_77798_row3_col0\" class=\"data row3 col0\" >0.000000</td>\n",
       "      <td id=\"T_77798_row3_col1\" class=\"data row3 col1\" >True</td>\n",
       "      <td id=\"T_77798_row3_col2\" class=\"data row3 col2\" >4</td>\n",
       "      <td id=\"T_77798_row3_col3\" class=\"data row3 col3\" >98.703704</td>\n",
       "    </tr>\n",
       "    <tr>\n",
       "      <th id=\"T_77798_level0_row4\" class=\"row_heading level0 row4\" >man</th>\n",
       "      <td id=\"T_77798_row4_col0\" class=\"data row4 col0\" >0.000000</td>\n",
       "      <td id=\"T_77798_row4_col1\" class=\"data row4 col1\" >True</td>\n",
       "      <td id=\"T_77798_row4_col2\" class=\"data row4 col2\" >9</td>\n",
       "      <td id=\"T_77798_row4_col3\" class=\"data row4 col3\" >97.333333</td>\n",
       "    </tr>\n",
       "    <tr>\n",
       "      <th id=\"T_77798_level0_row5\" class=\"row_heading level0 row5\" >coq</th>\n",
       "      <td id=\"T_77798_row5_col0\" class=\"data row5 col0\" >0.000000</td>\n",
       "      <td id=\"T_77798_row5_col1\" class=\"data row5 col1\" >True</td>\n",
       "      <td id=\"T_77798_row5_col2\" class=\"data row5 col2\" >10</td>\n",
       "      <td id=\"T_77798_row5_col3\" class=\"data row5 col3\" >94.296296</td>\n",
       "    </tr>\n",
       "    <tr>\n",
       "      <th id=\"T_77798_level0_row6\" class=\"row_heading level0 row6\" >rog</th>\n",
       "      <td id=\"T_77798_row6_col0\" class=\"data row6 col0\" >0.000000</td>\n",
       "      <td id=\"T_77798_row6_col1\" class=\"data row6 col1\" >False</td>\n",
       "      <td id=\"T_77798_row6_col2\" class=\"data row6 col2\" >11</td>\n",
       "      <td id=\"T_77798_row6_col3\" class=\"data row6 col3\" >98.888889</td>\n",
       "    </tr>\n",
       "  </tbody>\n",
       "</table>\n"
      ],
      "text/plain": [
       "<pandas.io.formats.style.Styler at 0x7f52525e0f70>"
      ]
     },
     "execution_count": 228,
     "metadata": {},
     "output_type": "execute_result"
    }
   ],
   "source": [
    "view.style.background_gradient(cmap=\"cividis\",subset=[\"Weighted Sun\"],vmin=50) #style sun column"
   ]
  },
  {
   "cell_type": "code",
   "execution_count": 98,
   "id": "9fd917fc",
   "metadata": {},
   "outputs": [],
   "source": [
    "driver.quit()"
   ]
  }
 ],
 "metadata": {
  "kernelspec": {
   "display_name": "Python 3 (ipykernel)",
   "language": "python",
   "name": "python3"
  },
  "language_info": {
   "codemirror_mode": {
    "name": "ipython",
    "version": 3
   },
   "file_extension": ".py",
   "mimetype": "text/x-python",
   "name": "python",
   "nbconvert_exporter": "python",
   "pygments_lexer": "ipython3",
   "version": "3.9.7"
  }
 },
 "nbformat": 4,
 "nbformat_minor": 5
}
