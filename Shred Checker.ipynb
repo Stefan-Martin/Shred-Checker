{
 "cells": [
  {
   "cell_type": "code",
   "execution_count": 147,
   "id": "460ca075",
   "metadata": {},
   "outputs": [],
   "source": [
    "import numpy as np\n",
    "import pandas as pd\n",
    "import os\n",
    "import time\n",
    "import datetime\n",
    "import urllib.request\n",
    "from selenium import webdriver\n",
    "from selenium.webdriver.chrome.options import Options"
   ]
  },
  {
   "cell_type": "code",
   "execution_count": 165,
   "id": "bfe1bdd5",
   "metadata": {},
   "outputs": [
    {
     "name": "stdout",
     "output_type": "stream",
     "text": [
      "200\n"
     ]
    }
   ],
   "source": [
    "import requests\n",
    "import io\n",
    "\n",
    "#Create the DB, to run use\n",
    "#sudo docker run -p 9000:9000  -p 9009:9009  -p 8812:8812  -p 9003:9003  questdb/questdb\n",
    "\n",
    "q = 'create table forecasts'\\\n",
    "    '(location string,'\\\n",
    "    'Date string,'\\\n",
    "    'snowfall float,'\\\n",
    "    'maxTemp float,'\\\n",
    "    'maxWind float,'\\\n",
    "    'sun_percent float)'\n",
    "r = requests.get(\"http://localhost:9000/exec?query=\" + q)\n",
    "print(r.status_code)"
   ]
  },
  {
   "cell_type": "code",
   "execution_count": 166,
   "id": "f77a4c2b",
   "metadata": {},
   "outputs": [],
   "source": [
    "chrome_options = Options()\n",
    "chrome_options.add_argument(\"--headless\")\n",
    "chrome_options.add_argument(\"--no-sandbox\")\n",
    "chrome_options.add_argument(\"--disable-dev-shm-usage\")\n",
    "chrome_driver = os.path.join(os.getcwd(), \"chromedriver\")\n",
    "driver = webdriver.Chrome(options=chrome_options, executable_path=chrome_driver)"
   ]
  },
  {
   "cell_type": "code",
   "execution_count": 189,
   "id": "2f569eb6",
   "metadata": {},
   "outputs": [
    {
     "ename": "IndentationError",
     "evalue": "expected an indented block (1987508578.py, line 36)",
     "output_type": "error",
     "traceback": [
      "\u001b[0;36m  File \u001b[0;32m\"/tmp/ipykernel_5057/1987508578.py\"\u001b[0;36m, line \u001b[0;32m36\u001b[0m\n\u001b[0;31m    today=df.iloc[0:df[df.TIME == '00:00'].index[0]]\u001b[0m\n\u001b[0m    ^\u001b[0m\n\u001b[0;31mIndentationError\u001b[0m\u001b[0;31m:\u001b[0m expected an indented block\n"
     ]
    }
   ],
   "source": [
    "class location:\n",
    "    def __init__(self,name,lat,long):\n",
    "        self.name=name\n",
    "        self.lat=lat\n",
    "        self.long=long\n",
    "    \n",
    "    def get_forecast(self):\n",
    "        url=\"https://spotwx.com/products/grib_index.php?model=gem_lam_continental&lat=\"+str(self.lat)+\"&lon=\"+str(self.long)+\"&tz=America/Vancouver&display=table\"\n",
    "        driver.get(url)\n",
    "        driver.execute_script(\"$('.buttons-csv').click();\")\n",
    "        time.sleep(2)\n",
    "        df=pd.read_csv(\"SpotWx.csv\")\n",
    "        os.remove(\"SpotWx.csv\")\n",
    "        self.forecast=df\n",
    "        return df\n",
    "    \n",
    "    def weather_synopsis(self,df):\n",
    "        new_snow=df[\"SQP\"].iloc[-1] #get last accumulated snow\n",
    "        melting=df[\"TMP\"].max()>0\n",
    "        wind=df[\"WS\"].max()\n",
    "        #sun during the day hours only\n",
    "        cloud=df.CLOUD.mask((df.TIME.str.slice(stop=2).astype(int)<8) | (df.TIME.str.slice(stop=2).astype(int)>20))\n",
    "        sun=100-cloud.mean()\n",
    "        data = {'New Snow':  [new_snow],\n",
    "                'Melting': [melting],\n",
    "                'Max Winds': [wind],\n",
    "                'Weighted Sun':[sun]\n",
    "               }\n",
    "        result = pd.DataFrame(data, index=[self.name])\n",
    "        return result\n",
    "    \n",
    "    def store_today(self,df):\n",
    "        #Check to see if we already have the data\n",
    "        #r = requests.get(\"http://localhost:9000/exec?query=select count() from forecasts where date=\"+today.DATE+\" and location=\"+self.name)\n",
    "        #if (\"r.text\"!=\"0\"):\n",
    "        today=df.iloc[0:df[df.TIME == '00:00'].index[0]]\n",
    "        cloud=today.CLOUD.mask((today.TIME.str.slice(stop=2).astype(int)<8) | (today.TIME.str.slice(stop=2).astype(int)>20))\n",
    "        sun=100-cloud.mean()\n",
    "        date=today.DATE[0].replace(\"/\",\"-\")\n",
    "        query = \"insert into forecasts values('\"\\\n",
    "        + self.name + \"','\"\\\n",
    "        + date + \"',\"\\\n",
    "        + str(today[\"SQP\"].iloc[-1]) + \",\"\\\n",
    "        + str(today.TMP.max()) + \",\"\\\n",
    "        + str(today.WS.max()) + \",\"\\\n",
    "        + str(sun) + \")\"\n",
    "        r = requests.get(\"http://localhost:9000/exec?query=\" + query)\n",
    "        \n",
    "        if (r.status_code==200):\n",
    "            return True\n",
    "        else:\n",
    "            return False"
   ]
  },
  {
   "cell_type": "code",
   "execution_count": 180,
   "id": "2782a485",
   "metadata": {},
   "outputs": [],
   "source": [
    "blackcomb=location(\"black\",50.09970, -122.86943)\n",
    "\n",
    "garibaldi=location(\"gar\",49.93299, -123.03600)\n",
    "\n",
    "joffre_lake=location(\"jof\",50.34143, -122.47768)\n",
    "\n",
    "s2s=location(\"s2s\",9.65218, -123.09211)\n",
    "\n",
    "cloudburst=location(\"cloud\",49.93298, -123.23602)\n",
    "\n",
    "manning=location(\"man\",49.06805, -120.91646)\n",
    "\n",
    "coq=location(\"coq\",49.61094, -121.05758)\n",
    "\n",
    "rogers=location(\"rog\",51.30123, -117.52014)\n",
    "\n",
    "sites=[blackcomb,garibaldi,joffre_lake,cloudburst,manning,coq,rogers]"
   ]
  },
  {
   "cell_type": "code",
   "execution_count": 181,
   "id": "21f62ad8",
   "metadata": {},
   "outputs": [],
   "source": [
    "view=pd.DataFrame(columns = ['New Snow', 'Melting','Max Winds','Weighted Sun'])"
   ]
  },
  {
   "cell_type": "code",
   "execution_count": 182,
   "id": "5d76dae3",
   "metadata": {},
   "outputs": [
    {
     "name": "stdout",
     "output_type": "stream",
     "text": [
      "Grabbing site data...\n",
      "http://localhost:9000/exec?query=insert into forecasts values('black','2022-02-15',0.0,-3.0,5,56.2)\n",
      "black\n",
      "http://localhost:9000/exec?query=insert into forecasts values('gar','2022-02-15',0.1,-1.5,8,23.400000000000006)\n",
      "gar\n",
      "http://localhost:9000/exec?query=insert into forecasts values('jof','2022-02-15',0.0,-2.3,3,31.400000000000006)\n",
      "jof\n",
      "http://localhost:9000/exec?query=insert into forecasts values('cloud','2022-02-15',0.1,2.2,6,20.0)\n",
      "cloud\n",
      "http://localhost:9000/exec?query=insert into forecasts values('man','2022-02-15',0.1,-2.5,11,20.0)\n",
      "man\n",
      "http://localhost:9000/exec?query=insert into forecasts values('coq','2022-02-15',1.4,-1.8,14,20.0)\n",
      "coq\n",
      "http://localhost:9000/exec?query=insert into forecasts values('rog','2022-02-15',2.7,-6.8,10,24.799999999999997)\n",
      "rog\n"
     ]
    }
   ],
   "source": [
    "print(\"Grabbing site data...\")\n",
    "for site in sites:\n",
    "    forecast=site.get_forecast()\n",
    "    if(site.store_today(forecast)):\n",
    "        print(site.name)\n",
    "    result=site.weather_synopsis(forecast)\n",
    "    view=view.append(result)"
   ]
  },
  {
   "cell_type": "code",
   "execution_count": null,
   "id": "638bde21",
   "metadata": {},
   "outputs": [],
   "source": [
    "view\n",
    "view.style.background_gradient(cmap=\"RdYlGn\",subset=[\"New Snow\"]) #style snow column"
   ]
  },
  {
   "cell_type": "code",
   "execution_count": 228,
   "id": "54afc545",
   "metadata": {},
   "outputs": [
    {
     "data": {
      "text/html": [
       "<style type=\"text/css\">\n",
       "#T_77798_row0_col3, #T_77798_row1_col3, #T_77798_row2_col3 {\n",
       "  background-color: #fee838;\n",
       "  color: #000000;\n",
       "}\n",
       "#T_77798_row3_col3 {\n",
       "  background-color: #fbe138;\n",
       "  color: #000000;\n",
       "}\n",
       "#T_77798_row4_col3 {\n",
       "  background-color: #f2da44;\n",
       "  color: #000000;\n",
       "}\n",
       "#T_77798_row5_col3 {\n",
       "  background-color: #e0cb56;\n",
       "  color: #000000;\n",
       "}\n",
       "#T_77798_row6_col3 {\n",
       "  background-color: #fce236;\n",
       "  color: #000000;\n",
       "}\n",
       "</style>\n",
       "<table id=\"T_77798_\">\n",
       "  <thead>\n",
       "    <tr>\n",
       "      <th class=\"blank level0\" >&nbsp;</th>\n",
       "      <th class=\"col_heading level0 col0\" >New Snow</th>\n",
       "      <th class=\"col_heading level0 col1\" >Melting</th>\n",
       "      <th class=\"col_heading level0 col2\" >Max Winds</th>\n",
       "      <th class=\"col_heading level0 col3\" >Weighted Sun</th>\n",
       "    </tr>\n",
       "  </thead>\n",
       "  <tbody>\n",
       "    <tr>\n",
       "      <th id=\"T_77798_level0_row0\" class=\"row_heading level0 row0\" >black</th>\n",
       "      <td id=\"T_77798_row0_col0\" class=\"data row0 col0\" >0.000000</td>\n",
       "      <td id=\"T_77798_row0_col1\" class=\"data row0 col1\" >True</td>\n",
       "      <td id=\"T_77798_row0_col2\" class=\"data row0 col2\" >4</td>\n",
       "      <td id=\"T_77798_row0_col3\" class=\"data row0 col3\" >100.000000</td>\n",
       "    </tr>\n",
       "    <tr>\n",
       "      <th id=\"T_77798_level0_row1\" class=\"row_heading level0 row1\" >gar</th>\n",
       "      <td id=\"T_77798_row1_col0\" class=\"data row1 col0\" >0.000000</td>\n",
       "      <td id=\"T_77798_row1_col1\" class=\"data row1 col1\" >True</td>\n",
       "      <td id=\"T_77798_row1_col2\" class=\"data row1 col2\" >12</td>\n",
       "      <td id=\"T_77798_row1_col3\" class=\"data row1 col3\" >100.000000</td>\n",
       "    </tr>\n",
       "    <tr>\n",
       "      <th id=\"T_77798_level0_row2\" class=\"row_heading level0 row2\" >jof</th>\n",
       "      <td id=\"T_77798_row2_col0\" class=\"data row2 col0\" >0.000000</td>\n",
       "      <td id=\"T_77798_row2_col1\" class=\"data row2 col1\" >True</td>\n",
       "      <td id=\"T_77798_row2_col2\" class=\"data row2 col2\" >8</td>\n",
       "      <td id=\"T_77798_row2_col3\" class=\"data row2 col3\" >100.000000</td>\n",
       "    </tr>\n",
       "    <tr>\n",
       "      <th id=\"T_77798_level0_row3\" class=\"row_heading level0 row3\" >cloud</th>\n",
       "      <td id=\"T_77798_row3_col0\" class=\"data row3 col0\" >0.000000</td>\n",
       "      <td id=\"T_77798_row3_col1\" class=\"data row3 col1\" >True</td>\n",
       "      <td id=\"T_77798_row3_col2\" class=\"data row3 col2\" >4</td>\n",
       "      <td id=\"T_77798_row3_col3\" class=\"data row3 col3\" >98.703704</td>\n",
       "    </tr>\n",
       "    <tr>\n",
       "      <th id=\"T_77798_level0_row4\" class=\"row_heading level0 row4\" >man</th>\n",
       "      <td id=\"T_77798_row4_col0\" class=\"data row4 col0\" >0.000000</td>\n",
       "      <td id=\"T_77798_row4_col1\" class=\"data row4 col1\" >True</td>\n",
       "      <td id=\"T_77798_row4_col2\" class=\"data row4 col2\" >9</td>\n",
       "      <td id=\"T_77798_row4_col3\" class=\"data row4 col3\" >97.333333</td>\n",
       "    </tr>\n",
       "    <tr>\n",
       "      <th id=\"T_77798_level0_row5\" class=\"row_heading level0 row5\" >coq</th>\n",
       "      <td id=\"T_77798_row5_col0\" class=\"data row5 col0\" >0.000000</td>\n",
       "      <td id=\"T_77798_row5_col1\" class=\"data row5 col1\" >True</td>\n",
       "      <td id=\"T_77798_row5_col2\" class=\"data row5 col2\" >10</td>\n",
       "      <td id=\"T_77798_row5_col3\" class=\"data row5 col3\" >94.296296</td>\n",
       "    </tr>\n",
       "    <tr>\n",
       "      <th id=\"T_77798_level0_row6\" class=\"row_heading level0 row6\" >rog</th>\n",
       "      <td id=\"T_77798_row6_col0\" class=\"data row6 col0\" >0.000000</td>\n",
       "      <td id=\"T_77798_row6_col1\" class=\"data row6 col1\" >False</td>\n",
       "      <td id=\"T_77798_row6_col2\" class=\"data row6 col2\" >11</td>\n",
       "      <td id=\"T_77798_row6_col3\" class=\"data row6 col3\" >98.888889</td>\n",
       "    </tr>\n",
       "  </tbody>\n",
       "</table>\n"
      ],
      "text/plain": [
       "<pandas.io.formats.style.Styler at 0x7f52525e0f70>"
      ]
     },
     "execution_count": 228,
     "metadata": {},
     "output_type": "execute_result"
    }
   ],
   "source": [
    "view.style.background_gradient(cmap=\"cividis\",subset=[\"Weighted Sun\"],vmin=50) #style sun column"
   ]
  },
  {
   "cell_type": "code",
   "execution_count": 190,
   "id": "9fd917fc",
   "metadata": {},
   "outputs": [],
   "source": [
    "driver.quit()"
   ]
  }
 ],
 "metadata": {
  "kernelspec": {
   "display_name": "Python 3 (ipykernel)",
   "language": "python",
   "name": "python3"
  },
  "language_info": {
   "codemirror_mode": {
    "name": "ipython",
    "version": 3
   },
   "file_extension": ".py",
   "mimetype": "text/x-python",
   "name": "python",
   "nbconvert_exporter": "python",
   "pygments_lexer": "ipython3",
   "version": "3.9.7"
  }
 },
 "nbformat": 4,
 "nbformat_minor": 5
}
